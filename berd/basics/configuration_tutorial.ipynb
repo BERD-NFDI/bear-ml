{
 "cells": [
  {
   "cell_type": "markdown",
   "source": [
    "# Tutorial for Configuration of Experiments\n",
    "\n",
    "This tutorial aims to provide a variety of insights on how to parametrize\n",
    "experiments in python scripts.\n"
   ],
   "metadata": {
    "collapsed": false
   }
  },
  {
   "cell_type": "code",
   "execution_count": 2,
   "outputs": [],
   "source": [
    "import math"
   ],
   "metadata": {
    "collapsed": false
   }
  },
  {
   "cell_type": "markdown",
   "source": [
    "As a starter let's assume our machine learning project consists solely on\n",
    "computing the result of a sine function."
   ],
   "metadata": {
    "collapsed": false
   }
  },
  {
   "cell_type": "code",
   "execution_count": 3,
   "outputs": [],
   "source": [
    "def compute_function(x):\n",
    "    return 1.5 * math.sin(2 * math.pi / 0.6 * (x - 3)) + 0.2"
   ],
   "metadata": {
    "collapsed": false
   }
  },
  {
   "cell_type": "markdown",
   "source": [
    "## Refactoring the base function\n",
    "\n",
    "This function seems pretty easy right? But aside from adding proper documentation, how can we make the code more self-explanatory?\n",
    "Suddenly appearing literals / constants are called **magic numbers** and should be avoided.\n",
    "As a first step, we assign variables as our magic numbers."
   ],
   "metadata": {
    "collapsed": false
   }
  },
  {
   "cell_type": "code",
   "execution_count": 4,
   "outputs": [],
   "source": [
    "def compute_function(x):\n",
    "    a = 1.5\n",
    "    b = 0.6\n",
    "    c = 3\n",
    "    d = 0.2\n",
    "    return a * math.sin(2 * math.pi / b * (x - c)) + d"
   ],
   "metadata": {
    "collapsed": false
   }
  },
  {
   "cell_type": "markdown",
   "source": [
    "This does not really help! Variable names are important, and they should be unique, and it should be obvious what they represent.\n",
    "So let's try again:"
   ],
   "metadata": {
    "collapsed": false
   }
  },
  {
   "cell_type": "code",
   "execution_count": 5,
   "outputs": [],
   "source": [
    "def compute_function(x):\n",
    "    amplitude = 1.5\n",
    "    period = 0.6\n",
    "    shift = 3\n",
    "    center = 0.2\n",
    "    return amplitude * math.sin(2 * math.pi / period * (x - shift)) + center"
   ],
   "metadata": {
    "collapsed": false
   }
  },
  {
   "cell_type": "markdown",
   "source": [
    "It is more verbose now, but it is way more intuitive than before.\n",
    "But what happens if you want to change the values for your experiments?\n",
    "We could edit the code, but this alters the function itself, which is also a bad practice.\n",
    "An easy fix is to allow function parameters and set the above values as defaults."
   ],
   "metadata": {
    "collapsed": false
   }
  },
  {
   "cell_type": "code",
   "execution_count": 6,
   "outputs": [],
   "source": [
    "def compute_function(\n",
    "        x,\n",
    "        amplitude = 1.5,\n",
    "        period = 0.6,\n",
    "        shift = 3,\n",
    "        center = 0.2,\n",
    "):\n",
    "    return amplitude * math.sin(2 * math.pi / period * (x - shift)) + center"
   ],
   "metadata": {
    "collapsed": false
   }
  },
  {
   "cell_type": "markdown",
   "source": [
    "This gives way more flexibility without altering the actual code of the function.\n",
    "Additionally, it is considered a good practice if type hints are added.\n",
    "These indicate the datatype of the parameters as well as the function return value\n",
    "and contribute a lot to readability, maintainability and error prevention."
   ],
   "metadata": {
    "collapsed": false
   }
  },
  {
   "cell_type": "code",
   "execution_count": 7,
   "outputs": [],
   "source": [
    "def compute_function(\n",
    "        x: float,\n",
    "        amplitude: float = 1.5,\n",
    "        period: float = 0.6,\n",
    "        shift: float = 3,\n",
    "        center: float = 0.2,\n",
    ") -> float:\n",
    "    return amplitude * math.sin(2 * math.pi / period * (x - shift)) + center"
   ],
   "metadata": {
    "collapsed": false
   }
  },
  {
   "cell_type": "markdown",
   "source": [
    "## Declaring constants\n",
    "\n",
    "Imagine you use the function somewhere in a script e.g. like:"
   ],
   "metadata": {
    "collapsed": false
   }
  },
  {
   "cell_type": "code",
   "execution_count": 8,
   "outputs": [],
   "source": [
    "def main() -> None:\n",
    "    # <--- CODE ABOVE --->\n",
    "    x_val = 0.75\n",
    "    y = compute_function(x=x_val, shift=-2.5)\n",
    "    # <--- CODE BELOW --->"
   ],
   "metadata": {
    "collapsed": false
   }
  },
  {
   "cell_type": "markdown",
   "source": [
    "We run into the problem of magic numbers again!\n",
    "Suddenly, a `-2.5` appears and if one doesn't read the full script carefully, we miss that\n",
    "our default function behavior was altered.\n",
    "If we want to explicitly inform the reader that we changed some parameters once,\n",
    "defining **constants** is a good idea.\n",
    "Constants are usually placed in the beginning of the script after the import statements and\n",
    "are written in capslock.\n",
    "Sadly, python doesn't allow any real immutable constants, but at least we can add a type hint\n",
    "indicating that we won't change the value of our constant again."
   ],
   "metadata": {
    "collapsed": false
   }
  },
  {
   "cell_type": "code",
   "execution_count": 9,
   "outputs": [],
   "source": [
    "from typing import Final\n",
    "\n",
    "SINUS_SHIFT: Final[float] = -2.5\n",
    "\n",
    "def main() -> None:\n",
    "    # <--- CODE ABOVE --->\n",
    "    x_val = 0.75\n",
    "    y = compute_function(x=x_val, shift=SINUS_SHIFT)\n",
    "    # <--- CODE BELOW --->"
   ],
   "metadata": {
    "collapsed": false
   }
  },
  {
   "cell_type": "markdown",
   "source": [
    "With this mechanic in place, we have added a quick way of changing our parameters manually\n",
    "in one place without having to scroll through the full script.\n",
    "We can also import constants into other modules.\n",
    "\n",
    "An alternative to defining constants is the python utility of `dataclasses`.\n",
    "Dataclasses are convenience classes to store attributes and are initialized over the decorator `@dataclass`.\n",
    "By setting `frozen=True` an exception is raised, when an assignment to a field was made,\n",
    "i.e. if we try to change an attribute of the data class.\n",
    "Additionally, we remove the `__init__` function, which disables changing of attributes over the constructor.\n",
    "Thus, we have some way to force constants and the class serves as a good container for all parameters that may be\n",
    "subject to change."
   ],
   "metadata": {
    "collapsed": false
   }
  },
  {
   "cell_type": "code",
   "execution_count": 29,
   "outputs": [],
   "source": [
    "from dataclasses import dataclass\n",
    "\n",
    "@dataclass(init=False, frozen=True)\n",
    "class FunctionParameters:\n",
    "    sinus_amplitude: float = 1.5\n",
    "    sinus_period: float = 0.6\n",
    "    sinus_shift: float = -2.5\n",
    "    sinus_center: float = 0.2"
   ],
   "metadata": {
    "collapsed": false
   }
  },
  {
   "cell_type": "markdown",
   "source": [
    "A big advantage of the dataclass in comparison to a classic dictionary (without excessive\n",
    "type hinting) is the inclusion into most IDEs' autocomplete mechanic.\n",
    "\n",
    "We decide to pass our parameters as function argument to our main method:"
   ],
   "metadata": {
    "collapsed": false
   }
  },
  {
   "cell_type": "code",
   "execution_count": 24,
   "outputs": [],
   "source": [
    "def main(func_params: FunctionParameters) -> None:\n",
    "    # <--- CODE ABOVE --->\n",
    "    x_val = 0.75\n",
    "    y = compute_function(\n",
    "        x=x_val,\n",
    "        amplitude=func_params.sinus_amplitude,\n",
    "        period=func_params.sinus_period,\n",
    "        shift=func_params.sinus_shift,\n",
    "        center=func_params.sinus_center,\n",
    "    )\n",
    "    # <--- CODE BELOW --->\n",
    "\n",
    "if __name__ == '__main__':\n",
    "    func_params = FunctionParameters()\n",
    "    main(func_params)"
   ],
   "metadata": {
    "collapsed": false
   }
  },
  {
   "cell_type": "markdown",
   "source": [
    "## Parsing arguments\n",
    "\n",
    "A dataclass makes it more obvious and clear, what values are carried by some parameters, but\n",
    "the problem of having to edit source files if we change our setup remains and should\n",
    "be avoided altogether.\n",
    "\n",
    "A quick CLI interface is generated over the standard python `argparse` utility.\n",
    "We could just feed the obtained parameters as arguments to the main function,\n",
    "but to be clean from the start, we use them to initialize our dataclass.\n",
    "For this we need to remove the `init=False` argument in `FunctionParameters`.\n",
    "Additionally, we remove the default values from `FunctionParameters`, which has two effects:\n",
    "First, passing a parameter is now required when creating an instance of `FunctionParameters`.\n",
    "Second, the default arguments become our single source of truth."
   ],
   "metadata": {
    "collapsed": false
   }
  },
  {
   "cell_type": "code",
   "execution_count": null,
   "outputs": [],
   "source": [
    "import argparse\n",
    "\n",
    "@dataclass(frozen=True)\n",
    "class FunctionParameters:\n",
    "    sinus_amplitude: float\n",
    "    sinus_period: float\n",
    "    sinus_shift: float\n",
    "    sinus_center: float\n",
    "\n",
    "def parse_args() -> FunctionParameters:\n",
    "    parser = argparse.ArgumentParser()\n",
    "    parser.add_argument('--amplitude', '-a', type=float, default=1.5)\n",
    "    parser.add_argument('--period', '-p', type=float, default=0.6)\n",
    "    parser.add_argument('--shift', '-s', type=float, default=3)\n",
    "    parser.add_argument('--center', '-c', type=float, default=0.2)\n",
    "\n",
    "    args = parser.parse_args()\n",
    "    return FunctionParameters(\n",
    "        sinus_amplitude=args.amplitude,\n",
    "        sinus_period=args.period,\n",
    "        sinus_shift=args.shift,\n",
    "        sinus_center=args.center,\n",
    "    )\n",
    "\n",
    "def main(func_params: FunctionParameters) -> None:\n",
    "    # <--- CODE ABOVE --->\n",
    "    x_val = 0.75\n",
    "    y = compute_function(\n",
    "        x=x_val,\n",
    "        amplitude=func_params.sinus_amplitude,\n",
    "        period=func_params.sinus_period,\n",
    "        shift=func_params.sinus_shift,\n",
    "        center=func_params.sinus_center,\n",
    "    )\n",
    "    # <--- CODE BELOW --->\n",
    "\n",
    "if __name__ == '__main__':\n",
    "    func_params = parse_args()\n",
    "    main(func_params)"
   ],
   "metadata": {
    "collapsed": false
   }
  },
  {
   "cell_type": "markdown",
   "source": [
    "By defining arguments as above, one could ca"
   ],
   "metadata": {
    "collapsed": false
   }
  }
 ],
 "metadata": {
  "kernelspec": {
   "display_name": "Python 3",
   "language": "python",
   "name": "python3"
  },
  "language_info": {
   "codemirror_mode": {
    "name": "ipython",
    "version": 2
   },
   "file_extension": ".py",
   "mimetype": "text/x-python",
   "name": "python",
   "nbconvert_exporter": "python",
   "pygments_lexer": "ipython2",
   "version": "2.7.6"
  }
 },
 "nbformat": 4,
 "nbformat_minor": 0
}
