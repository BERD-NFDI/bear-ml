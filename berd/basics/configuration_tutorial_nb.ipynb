{
 "cells": [
  {
   "cell_type": "markdown",
   "id": "cdac3a70",
   "metadata": {},
   "source": [
    "# Tutorial for Configuration of Experiments\n",
    "\n",
    "This tutorial aims to provide a variety of insights on how to parametrize\n",
    "experiments in python scripts.\n"
   ]
  },
  {
   "cell_type": "code",
   "execution_count": 1,
   "id": "b68792f0",
   "metadata": {},
   "outputs": [],
   "source": [
    "import math"
   ]
  },
  {
   "cell_type": "markdown",
   "id": "616b8e2e",
   "metadata": {
    "lines_to_next_cell": 2
   },
   "source": [
    "As a starter let's assume our machine learning project consists solely on\n",
    "computing the result of a sine function."
   ]
  },
  {
   "cell_type": "code",
   "execution_count": 2,
   "id": "c1a774c6",
   "metadata": {
    "lines_to_next_cell": 2
   },
   "outputs": [],
   "source": [
    "def compute_function(x):\n",
    "    return 1.5 * math.sin(2 * math.pi / 0.6 * (x - 3)) + 0.2"
   ]
  },
  {
   "cell_type": "markdown",
   "id": "632f4c93",
   "metadata": {
    "lines_to_next_cell": 2
   },
   "source": [
    "## Refactoring the base function\n",
    "\n",
    "This function seems pretty easy right? But aside from adding proper documentation,\n",
    "how can we make the code more self-explanatory?\n",
    "Suddenly appearing literals / constants are called **magic numbers** and\n",
    "should be avoided.\n",
    "As a first step, we assign variables as our magic numbers."
   ]
  },
  {
   "cell_type": "code",
   "execution_count": 3,
   "id": "a90db442",
   "metadata": {
    "lines_to_next_cell": 2
   },
   "outputs": [],
   "source": [
    "def compute_function(x):\n",
    "    a = 1.5\n",
    "    b = 0.6\n",
    "    c = 3\n",
    "    d = 0.2\n",
    "    return a * math.sin(2 * math.pi / b * (x - c)) + d"
   ]
  },
  {
   "cell_type": "markdown",
   "id": "2fa3a348",
   "metadata": {
    "lines_to_next_cell": 2
   },
   "source": [
    "This does not really help! Variable names are important, and they should be unique\n",
    ", and it should be obvious what they represent.\n",
    "So let's try again:"
   ]
  },
  {
   "cell_type": "code",
   "execution_count": 4,
   "id": "c25cad53",
   "metadata": {
    "lines_to_next_cell": 2
   },
   "outputs": [],
   "source": [
    "def compute_function(x):\n",
    "    amplitude = 1.5\n",
    "    period = 0.6\n",
    "    shift = 3\n",
    "    center = 0.2\n",
    "    return amplitude * math.sin(2 * math.pi / period * (x - shift)) + center"
   ]
  },
  {
   "cell_type": "markdown",
   "id": "f8fbfb2d",
   "metadata": {
    "lines_to_next_cell": 2
   },
   "source": [
    "It is more verbose now, but it is way more intuitive than before.\n",
    "But what happens if you want to change the values for your experiments?\n",
    "We could edit the code, but this alters the function itself,\n",
    "which is also a bad practice.\n",
    "An easy fix is to allow function parameters and set the above values as defaults."
   ]
  },
  {
   "cell_type": "code",
   "execution_count": 5,
   "id": "d898280c",
   "metadata": {
    "lines_to_next_cell": 2
   },
   "outputs": [],
   "source": [
    "def compute_function(\n",
    "    x,\n",
    "    amplitude=1.5,\n",
    "    period=0.6,\n",
    "    shift=3,\n",
    "    center=0.2,\n",
    "):\n",
    "    return amplitude * math.sin(2 * math.pi / period * (x - shift)) + center"
   ]
  },
  {
   "cell_type": "markdown",
   "id": "e03cff45",
   "metadata": {
    "lines_to_next_cell": 2
   },
   "source": [
    "This gives way more flexibility without altering the actual code of the function.\n",
    "Additionally, it is considered a good practice if type hints are added.\n",
    "These indicate the datatype of the parameters as well as the function return value\n",
    "and contribute a lot to readability, maintainability and error prevention."
   ]
  },
  {
   "cell_type": "code",
   "execution_count": 6,
   "id": "f889def1",
   "metadata": {
    "lines_to_next_cell": 2
   },
   "outputs": [],
   "source": [
    "def compute_function(\n",
    "    x: float,\n",
    "    amplitude: float = 1.5,\n",
    "    period: float = 0.6,\n",
    "    shift: float = 3,\n",
    "    center: float = 0.2,\n",
    ") -> float:\n",
    "    return amplitude * math.sin(2 * math.pi / period * (x - shift)) + center"
   ]
  },
  {
   "cell_type": "markdown",
   "id": "6437f6eb",
   "metadata": {
    "lines_to_next_cell": 2
   },
   "source": [
    "## Declaring constants\n",
    "\n",
    "Imagine you use the function somewhere in a script e.g. like:"
   ]
  },
  {
   "cell_type": "code",
   "execution_count": 7,
   "id": "06610ca1",
   "metadata": {},
   "outputs": [],
   "source": [
    "def main() -> None:\n",
    "    # <--- CODE ABOVE --->\n",
    "    x_val = 0.75\n",
    "    y = compute_function(x=x_val, shift=-2.5)\n",
    "    # <--- CODE BELOW --->"
   ]
  },
  {
   "cell_type": "markdown",
   "id": "76249d77",
   "metadata": {},
   "source": [
    "We run into the problem of magic numbers again!\n",
    "Suddenly, a `-2.5` appears and if one doesn't read the full script carefully,\n",
    "we miss that our default function behavior was altered.\n",
    "If we want to explicitly inform the reader that we changed some parameters once,\n",
    "defining **constants** is a good idea.\n",
    "Constants are usually placed in the beginning of the script after\n",
    "the import statements and are written in capslock.\n",
    "Sadly, python doesn't allow any real immutable constants,\n",
    "but at least we can add a type hint indicating that we won't change\n",
    "the value of our constant again."
   ]
  },
  {
   "cell_type": "code",
   "execution_count": 8,
   "id": "c6b57dcd",
   "metadata": {},
   "outputs": [],
   "source": [
    "from typing import Final\n",
    "\n",
    "SINUS_SHIFT: Final[float] = -2.5\n",
    "\n",
    "\n",
    "def main() -> None:\n",
    "    # <--- CODE ABOVE --->\n",
    "    x_val = 0.75\n",
    "    y = compute_function(x=x_val, shift=SINUS_SHIFT)\n",
    "    # <--- CODE BELOW --->"
   ]
  },
  {
   "cell_type": "markdown",
   "id": "9eeae85d",
   "metadata": {},
   "source": [
    "With this mechanic in place, we have added a quick way of changing our parameters\n",
    "manually in one place without having to scroll through the full script.\n",
    "We can also import constants into other modules.\n",
    "\n",
    "An alternative to defining constants is the python utility of `dataclasses`.\n",
    "Dataclasses are convenience classes to store attributes and\n",
    "are initialized over the decorator `@dataclass`.\n",
    "By setting `frozen=True` an exception is raised, when an assignment\n",
    "to a field was made, i.e. if we try to change an attribute of the data class.\n",
    "Additionally, we remove the `__init__` function,\n",
    "which disables changing of attributes over the constructor.\n",
    "Thus, we have some way to force constants and the class serves as a\n",
    "good container for all parameters that may be subject to change."
   ]
  },
  {
   "cell_type": "code",
   "execution_count": 9,
   "id": "e91e322e",
   "metadata": {
    "lines_to_next_cell": 2
   },
   "outputs": [],
   "source": [
    "from dataclasses import dataclass\n",
    "\n",
    "\n",
    "@dataclass(init=False, frozen=True)\n",
    "class FunctionParameters:\n",
    "    sinus_amplitude: float = 1.5\n",
    "    sinus_period: float = 0.6\n",
    "    sinus_shift: float = -2.5\n",
    "    sinus_center: float = 0.2"
   ]
  },
  {
   "cell_type": "markdown",
   "id": "5bbd2a39",
   "metadata": {
    "lines_to_next_cell": 2
   },
   "source": [
    "A big advantage of the dataclass in comparison to a classic dictionary (without\n",
    "excessive type hinting) is the inclusion into most IDEs' autocomplete mechanic.\n",
    "\n",
    "We decide to pass our parameters as function argument to our main method:"
   ]
  },
  {
   "cell_type": "code",
   "execution_count": 10,
   "id": "b47d6434",
   "metadata": {},
   "outputs": [],
   "source": [
    "def main(func_params: FunctionParameters) -> None:\n",
    "    x_val = 0.75\n",
    "    y = compute_function(\n",
    "        x=x_val,\n",
    "        amplitude=func_params.sinus_amplitude,\n",
    "        period=func_params.sinus_period,\n",
    "        shift=func_params.sinus_shift,\n",
    "        center=func_params.sinus_center,\n",
    "    )\n",
    "\n",
    "\n",
    "if __name__ == '__main__':\n",
    "    func_params = FunctionParameters()\n",
    "    main(func_params)"
   ]
  },
  {
   "cell_type": "markdown",
   "id": "40ea4722",
   "metadata": {},
   "source": [
    "## Parsing arguments\n",
    "\n",
    "A dataclass makes it more obvious and clear, what values are carried by some\n",
    "parameters, but the problem of having to edit source files if we change our\n",
    "setup remains and should be avoided altogether.\n",
    "\n",
    "A quick CLI interface is generated over the standard python `argparse` utility.\n",
    "We could just feed the obtained parameters as arguments to the main function,\n",
    "but to be clean from the start, we use them to initialize our dataclass.\n",
    "For this we need to remove the `init=False` argument in `FunctionParameters`.\n",
    "Additionally, we remove the default values from `FunctionParameters`,\n",
    "which has two effects:\n",
    "First, passing a parameter is now required when creating an\n",
    "instance of `FunctionParameters`.\n",
    "Second, the default arguments become our single source of truth."
   ]
  },
  {
   "cell_type": "code",
   "execution_count": 11,
   "outputs": [],
   "source": [
    "# This simulates empty arguments.\n",
    "# Otherwise, calling below code snippet would fail in a jupyter notebook.\n",
    "import sys\n",
    "sys.argv = ['']"
   ],
   "metadata": {
    "collapsed": false
   }
  },
  {
   "cell_type": "code",
   "execution_count": 12,
   "id": "4bc28624",
   "metadata": {},
   "outputs": [],
   "source": [
    "import argparse\n",
    "\n",
    "\n",
    "@dataclass(frozen=True)\n",
    "class FunctionParameters:\n",
    "    sinus_amplitude: float\n",
    "    sinus_period: float\n",
    "    sinus_shift: float\n",
    "    sinus_center: float\n",
    "\n",
    "\n",
    "def parse_args() -> FunctionParameters:\n",
    "    parser = argparse.ArgumentParser()\n",
    "    parser.add_argument('--amplitude', '-a', type=float, default=1.5)\n",
    "    parser.add_argument('--period', '-p', type=float, default=0.6)\n",
    "    parser.add_argument('--shift', '-s', type=float, default=3)\n",
    "    parser.add_argument('--center', '-c', type=float, default=0.2)\n",
    "\n",
    "    args = parser.parse_args()\n",
    "    return FunctionParameters(\n",
    "        sinus_amplitude=args.amplitude,\n",
    "        sinus_period=args.period,\n",
    "        sinus_shift=args.shift,\n",
    "        sinus_center=args.center,\n",
    "    )\n",
    "\n",
    "\n",
    "def main(func_params: FunctionParameters) -> None:\n",
    "    x_val = 0.75\n",
    "    y = compute_function(\n",
    "        x=x_val,\n",
    "        amplitude=func_params.sinus_amplitude,\n",
    "        period=func_params.sinus_period,\n",
    "        shift=func_params.sinus_shift,\n",
    "        center=func_params.sinus_center,\n",
    "    )\n",
    "\n",
    "\n",
    "if __name__ == '__main__':\n",
    "    func_params = parse_args()\n",
    "    main(func_params)"
   ]
  },
  {
   "cell_type": "markdown",
   "id": "6784f524",
   "metadata": {},
   "source": [
    "`argparse` is included in the python standard library and is usually sufficient for most CLI tasks.\n",
    "Alternatively, one could utilize some convenience libraries as\n",
    "(click)[https://click.palletsprojects.com] or (fire)[https://google.github.io/python-fire/guide/].\n",
    "These usually convert function arguments directly or use the decorator functionality\n",
    "to declare CLI arguments."
   ]
  },
  {
   "cell_type": "markdown",
   "source": [
    "## Configuration Files\n",
    "\n",
    "Another way of passing arguments into a script is by using configuration files.\n",
    "Having external files to do the parametrization is often even more convenient and readable.\n",
    "Information is also stored persistently.\n",
    "Further, when doing sweeps, having configuration files allows for a distinct experiment setup,\n",
    "e.g. when scheduling runs over a directory of configuration files.\n",
    "\n",
    "Config files can come in various formats. Each format has its pros and cons but in the majority\n",
    "of basic use-cases it comes down to personal preference.\n",
    "\n",
    "In the following, we show examples of `JSON`, `YAML` and `TOML` paired with a way to parse the\n",
    "contents into a python dictionary.\n",
    "\n",
    "\n",
    "### JSON\n",
    "\n",
    "`.json` files are a widely adapted standard for information exchange.\n",
    "While JSON or `Javascript Object Notation` is an established format providing\n",
    "a variety of options, the syntax is a bit more complicated and sensitive in\n",
    "comparison to other methods.\n",
    "\n",
    "Loading a `.json` file is done over the standard python `json` utility.\n",
    "\n",
    "```json\n",
    "{\n",
    "\t\"sinus\": {\n",
    "\t\t\"amplitude\": 1.6,\n",
    "\t\t\"period\": 0.6,\n",
    "\t\t\"shift\": 3,\n",
    "\t\t\"center\": 0.2\n",
    "\t}\n",
    "}\n",
    "```"
   ],
   "metadata": {
    "collapsed": false
   }
  },
  {
   "cell_type": "code",
   "execution_count": 13,
   "outputs": [],
   "source": [
    "import json\n",
    "from typing import Dict\n",
    "\n",
    "def load_json(f_path: str) -> Dict:\n",
    "    with open(f_path, 'r') as f:\n",
    "        return json.load(f)"
   ],
   "metadata": {
    "collapsed": false
   }
  },
  {
   "cell_type": "markdown",
   "source": [
    "### YAML\n",
    "\n",
    "YAML or `YAML Ain't Markup Language` follows the same key-value principles as JSON but\n",
    "has an easier syntax and is a popular method for configuration files.\n",
    "\n",
    "The `.yaml` file is loaded using the `pyyaml` package, which can be installed\n",
    "over `pip`.\n",
    "\n",
    "```yaml\n",
    "sinus:\n",
    "    amplitude: 1.6\n",
    "    period: 0.6\n",
    "    shift: 3\n",
    "    center: 0.2\n",
    "```"
   ],
   "metadata": {
    "collapsed": false
   }
  },
  {
   "cell_type": "code",
   "execution_count": 14,
   "outputs": [],
   "source": [
    "import yaml\n",
    "\n",
    "def load_yml(f_path: str) -> Dict:\n",
    "    with open(f_path, 'r') as ymlfile:\n",
    "        return dict(yaml.load(ymlfile, Loader=yaml.FullLoader))"
   ],
   "metadata": {
    "collapsed": false
   }
  },
  {
   "cell_type": "markdown",
   "source": [
    "### TOML\n",
    "\n",
    "TOML or `Tom's Obvious Minimal Language` is designed to be a minimal\n",
    "configuration file format and is becomingly more adapted by various\n",
    "packages plus in the build process of python packages.\n",
    "\n",
    "There are various packages available to read TOML files.\n",
    "We simply choose the `toml` package.\n",
    "\n",
    "```toml\n",
    "[sinus]\n",
    "amplitude = 1.6\n",
    "period = 0.6\n",
    "shift = 3\n",
    "center = 0.2\n",
    "```"
   ],
   "metadata": {
    "collapsed": false
   }
  },
  {
   "cell_type": "code",
   "execution_count": 15,
   "outputs": [],
   "source": [
    "import toml\n",
    "\n",
    "def load_toml(f_path: str) -> Dict:\n",
    "    return toml.load(f_path)"
   ],
   "metadata": {
    "collapsed": false
   }
  },
  {
   "cell_type": "markdown",
   "source": [
    "In the next step, we show how we can use one of the above function or formats to parse arguments\n",
    "in our python script.\n",
    "Again, we could simply parse the content of our files into dictionaries,\n",
    "but having a dedicated class for our parameters gives the benefit of e.g.\n",
    "type security, linting, prevention of key errors etc.\n",
    "\n",
    "As we saw in the file examples, the formats allow for hierarchical information,\n",
    "i.e. `sinus` as category.\n",
    "At a certain point it would probably make sense to structure dataclasses according\n",
    "to the respective hierarchy, but we save this step for another tutorial ;)\n",
    "\n",
    "As we see, we are still using argument parsing!\n",
    "This step is barely removable, because at one point we have to tell our program,\n",
    "where the configuration file is located at.\n",
    "Obviously, we can just hardcode it, but how do we set a config file at a\n",
    "different location?\n",
    "\n",
    "We stashed a matching config file in the repository beforehand, so we just need to emulate\n",
    "CLI arguments."
   ],
   "metadata": {
    "collapsed": false
   }
  },
  {
   "cell_type": "code",
   "execution_count": 16,
   "outputs": [],
   "source": [
    "sys.argv = ['', '--config', 'utils/configuration_tutorial.toml']"
   ],
   "metadata": {
    "collapsed": false
   }
  },
  {
   "cell_type": "code",
   "execution_count": 17,
   "outputs": [],
   "source": [
    "import argparse\n",
    "\n",
    "\n",
    "@dataclass(frozen=True)\n",
    "class FunctionParameters:\n",
    "    sinus_amplitude: float\n",
    "    sinus_period: float\n",
    "    sinus_shift: float\n",
    "    sinus_center: float\n",
    "\n",
    "\n",
    "def get_configuration() -> FunctionParameters:\n",
    "    parser = argparse.ArgumentParser()\n",
    "    parser.add_argument('--config', '-c', type=str, default='config.toml')\n",
    "    args = parser.parse_args()\n",
    "\n",
    "    cfg_dict = load_toml(args.config)\n",
    "    return FunctionParameters(\n",
    "        sinus_amplitude=cfg_dict['sinus']['amplitude'],\n",
    "        sinus_period=cfg_dict['sinus']['period'],\n",
    "        sinus_shift=cfg_dict['sinus']['shift'],\n",
    "        sinus_center=cfg_dict['sinus']['center'],\n",
    "    )\n",
    "\n",
    "\n",
    "def main(func_params: FunctionParameters) -> None:\n",
    "    x_val = 0.75\n",
    "    y = compute_function(\n",
    "        x=x_val,\n",
    "        amplitude=func_params.sinus_amplitude,\n",
    "        period=func_params.sinus_period,\n",
    "        shift=func_params.sinus_shift,\n",
    "        center=func_params.sinus_center,\n",
    "    )\n",
    "\n",
    "\n",
    "if __name__ == '__main__':\n",
    "    func_params = get_configuration()\n",
    "    main(func_params)"
   ],
   "metadata": {
    "collapsed": false
   }
  },
  {
   "cell_type": "markdown",
   "source": [
    "## (Advanced) Automatic Parsing & Configuration File Checker\n",
    "\n",
    "Previously, we have set up a routine, which is able to read a config file\n",
    "to memory and use the content to initialize a type safe configuration object.\n",
    "However, with an increasing number of parameters, the whole process gets\n",
    "more and more extensive.\n",
    "\n",
    "In the following, we develop a function that extracts the attributes from a\n",
    "generic dataclass and ensures that all of them exist in the loaded\n",
    "configuration file.\n",
    "\n",
    "First, the `dataclasses` utility has a function that lists the attributes or\n",
    "`fields` in this context. We don't need to initialize the class for this."
   ],
   "metadata": {
    "collapsed": false
   }
  },
  {
   "cell_type": "code",
   "execution_count": 18,
   "outputs": [
    {
     "name": "stdout",
     "output_type": "stream",
     "text": [
      "['sinus_amplitude', 'sinus_period', 'sinus_shift', 'sinus_center']\n"
     ]
    }
   ],
   "source": [
    "import dataclasses\n",
    "\n",
    "cls_attributes = [field.name for field in dataclasses.fields(FunctionParameters)]\n",
    "print(cls_attributes)"
   ],
   "metadata": {
    "collapsed": false
   }
  },
  {
   "cell_type": "markdown",
   "source": [
    "We load the config file to memory via the loading function defined above."
   ],
   "metadata": {
    "collapsed": false
   }
  },
  {
   "cell_type": "code",
   "execution_count": 19,
   "outputs": [
    {
     "name": "stdout",
     "output_type": "stream",
     "text": [
      "{'sinus': {'amplitude': 1.6, 'period': 0.6, 'shift': 3, 'center': 0.2}}\n"
     ]
    }
   ],
   "source": [
    "f_path = 'utils/configuration_tutorial.toml'\n",
    "cfg_dict = load_toml(f_path)\n",
    "\n",
    "print(cfg_dict)"
   ],
   "metadata": {
    "collapsed": false
   }
  },
  {
   "cell_type": "markdown",
   "source": [
    "As we can see, we need to map the nested dictionary to the fieldnames.\n",
    "A simple solution is to employ a unique naming scheme and combining multiple\n",
    "levels via concatenation.\n",
    "This could get complicated very fast, if we allow unlimited hierarchies, which\n",
    "in turn would require a recursive parsing function.\n",
    "In our example, we set a depth limit of one."
   ],
   "metadata": {
    "collapsed": false
   }
  },
  {
   "cell_type": "code",
   "execution_count": 20,
   "outputs": [
    {
     "name": "stdout",
     "output_type": "stream",
     "text": [
      "{'sinus_amplitude': 1.6, 'sinus_period': 0.6, 'sinus_shift': 3, 'sinus_center': 0.2}\n"
     ]
    }
   ],
   "source": [
    "cfg_dict_new = {}\n",
    "for key, val in cfg_dict.items():\n",
    "    if isinstance(val, dict):\n",
    "        for sub_key, sub_val in val.items():\n",
    "            cfg_dict_new.update({\n",
    "                key + '_' + sub_key: sub_val\n",
    "            })\n",
    "    else:\n",
    "        cfg_dict_new.update({key: val})\n",
    "\n",
    "print(cfg_dict_new)"
   ],
   "metadata": {
    "collapsed": false
   }
  },
  {
   "cell_type": "markdown",
   "source": [
    "Next, we check whether all parsed arguments match our required fields.\n",
    "We convert both objects into sets and compute difference. If all field names are contained,\n",
    "the result should have a length of zero."
   ],
   "metadata": {
    "collapsed": false
   }
  },
  {
   "cell_type": "code",
   "execution_count": 21,
   "outputs": [
    {
     "name": "stdout",
     "output_type": "stream",
     "text": [
      "set()\n",
      "{'xyz'}\n"
     ]
    }
   ],
   "source": [
    "print(set(cls_attributes) - set(cfg_dict_new.keys()))\n",
    "\n",
    "print(set(cls_attributes + ['xyz']) - set(cfg_dict_new.keys()))"
   ],
   "metadata": {
    "collapsed": false
   }
  },
  {
   "cell_type": "markdown",
   "source": [
    "To make sure that we only parse arguments, which can be processed by the constructor of the\n",
    "dataclass, we take the intersection of sets afterwards."
   ],
   "metadata": {
    "collapsed": false
   }
  },
  {
   "cell_type": "code",
   "execution_count": 22,
   "outputs": [
    {
     "name": "stdout",
     "output_type": "stream",
     "text": [
      "{'sinus_amplitude', 'sinus_center', 'sinus_shift', 'sinus_period'}\n"
     ]
    }
   ],
   "source": [
    "final_keys = set(cls_attributes + ['xyz']).intersection(cfg_dict_new.keys())\n",
    "print(final_keys)"
   ],
   "metadata": {
    "collapsed": false
   }
  },
  {
   "cell_type": "markdown",
   "source": [
    "Eventually, the contents of the filtered config file can be passed to the dataclass via the `**` operator."
   ],
   "metadata": {
    "collapsed": false
   }
  },
  {
   "cell_type": "code",
   "execution_count": 23,
   "outputs": [
    {
     "data": {
      "text/plain": "FunctionParameters(sinus_amplitude=1.6, sinus_period=0.6, sinus_shift=3, sinus_center=0.2)"
     },
     "execution_count": 23,
     "metadata": {},
     "output_type": "execute_result"
    }
   ],
   "source": [
    "cfg_dict_filtered = {key: cfg_dict_new[key] for key in final_keys}\n",
    "FunctionParameters(**cfg_dict_filtered)"
   ],
   "metadata": {
    "collapsed": false
   }
  },
  {
   "cell_type": "markdown",
   "source": [
    "Let's combine everything in one handy object!"
   ],
   "metadata": {
    "collapsed": false
   }
  },
  {
   "cell_type": "code",
   "execution_count": 24,
   "outputs": [],
   "source": [
    "from dataclasses import is_dataclass\n",
    "import toml\n",
    "\n",
    "class ConfigurationParser:\n",
    "    def __init__(self, cfg_cls = FunctionParameters) -> None:\n",
    "        if not is_dataclass(cfg_cls):\n",
    "            raise ValueError('{} is not a valid dataclass.'.format(cfg_cls))\n",
    "        self.cfg_cls = cfg_cls\n",
    "\n",
    "    def get_configuration(self, f_path: str):\n",
    "        # Load TOML file\n",
    "        cfg_dict = ConfigurationParser.load_toml(f_path)\n",
    "        # Convert nested keys\n",
    "        cfg_dict = ConfigurationParser.convert_config_hierarchy(cfg_dict)\n",
    "        # Get dataclass attributes\n",
    "        cls_attributes = [field.name for field in dataclasses.fields(self.cfg_cls)]\n",
    "\n",
    "        # Check if all necessary keys are contained\n",
    "        arg_diff = set(cls_attributes) - set(cfg_dict.keys())\n",
    "        if len(arg_diff) > 0:\n",
    "            raise ValueError(\n",
    "                'Config file keys do not match all keys required by the dataclass. '\n",
    "                'Missing keys: {}'.format(arg_diff)\n",
    "            )\n",
    "\n",
    "        # Initialize configuration object with filtered keys\n",
    "        cfg_keys = set(cls_attributes).intersection(cfg_dict_new.keys())\n",
    "        cfg_dict = {k: cfg_dict_new[k] for k in cfg_keys}\n",
    "        return self.cfg_cls(**cfg_dict)\n",
    "\n",
    "    @staticmethod\n",
    "    def load_toml(f_path: str) -> Dict:\n",
    "        return toml.load(f_path)\n",
    "\n",
    "    @staticmethod\n",
    "    def convert_config_hierarchy(cfg_dict: Dict) -> Dict:\n",
    "        cfg_dict_new = {}\n",
    "        for key, val in cfg_dict.items():\n",
    "            if isinstance(val, dict):\n",
    "                for sub_key, sub_val in val.items():\n",
    "                    cfg_dict_new.update({\n",
    "                        key + '_' + sub_key: sub_val\n",
    "                    })\n",
    "            else:\n",
    "                cfg_dict_new.update({key: val})\n",
    "\n",
    "        return cfg_dict_new"
   ],
   "metadata": {
    "collapsed": false
   }
  },
  {
   "cell_type": "code",
   "execution_count": 25,
   "outputs": [
    {
     "data": {
      "text/plain": "FunctionParameters(sinus_amplitude=1.6, sinus_period=0.6, sinus_shift=3, sinus_center=0.2)"
     },
     "execution_count": 25,
     "metadata": {},
     "output_type": "execute_result"
    }
   ],
   "source": [
    "f_path = 'utils/configuration_tutorial.toml'\n",
    "ConfigurationParser().get_configuration(f_path)"
   ],
   "metadata": {
    "collapsed": false
   }
  },
  {
   "cell_type": "markdown",
   "source": [
    "Given our `ConfigurationParser` and `FunctionParameters` classes, we can finalize the configuration setup of our script:"
   ],
   "metadata": {
    "collapsed": false
   }
  },
  {
   "cell_type": "code",
   "execution_count": 26,
   "outputs": [],
   "source": [
    "import argparse\n",
    "\n",
    "def get_config_path() -> str:\n",
    "    parser = argparse.ArgumentParser()\n",
    "    parser.add_argument('--config', '-c', type=str, default='config.toml')\n",
    "    args = parser.parse_args()\n",
    "    return args.config\n",
    "\n",
    "\n",
    "def main(func_params: FunctionParameters) -> None:\n",
    "    x_val = 0.75\n",
    "    y = compute_function(\n",
    "        x=x_val,\n",
    "        amplitude=func_params.sinus_amplitude,\n",
    "        period=func_params.sinus_period,\n",
    "        shift=func_params.sinus_shift,\n",
    "        center=func_params.sinus_center,\n",
    "    )\n",
    "\n",
    "\n",
    "if __name__ == '__main__':\n",
    "    cfg_path = get_config_path()\n",
    "    func_params = ConfigurationParser(FunctionParameters).get_configuration(cfg_path)\n",
    "    main(func_params)"
   ],
   "metadata": {
    "collapsed": false
   }
  },
  {
   "cell_type": "markdown",
   "source": [
    "Obviously, this kind of setup is a complete overkill for a small script,\n",
    "but let us imagine a larger project with 30+ parameters and multiple collaborates.\n",
    "Giving a secure interface with static typing is an important step towards reliability, readability and encapsulation."
   ],
   "metadata": {
    "collapsed": false
   }
  }
 ],
 "metadata": {
  "kernelspec": {
   "display_name": "Python 3",
   "language": "python",
   "name": "python3"
  }
 },
 "nbformat": 4,
 "nbformat_minor": 5
}
