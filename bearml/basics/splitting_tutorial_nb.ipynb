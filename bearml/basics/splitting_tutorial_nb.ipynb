{
 "cells": [
  {
   "cell_type": "markdown",
   "source": [
    "# Tutorial for Splitting Datasets\n",
    "\n",
    "In this tutorial we investigate the concept of splitting data in multiple\n",
    "partitions using pandas dataframes. The presented concepts are intensified\n",
    "in a practical example, where a function is approximated using polynomial regression.\n",
    "\n",
    "|                  |                                                                                                                                                                                                                                                                  |\n",
    "|------------------|------------------------------------------------------------------------------------------------------------------------------------------------------------------------------------------------------------------------------------------------------------------|\n",
    "| Requirements   \t | \t- Basic python skills                                                                                                                                                                                                                                           |\n",
    "| Learning Goals \t | \t- Understanding basics of a pandas dataframe <br/>- Concept of splitting data into multiple partitions <br/>- Various splitting strategies for dataframes. <br/>- Understanding cross-validation <br/>- Application of cross-validation in a practical use-case |\n",
    "| Limitations    \t | - The tutorial only handles pandas dataframes and a numpy array in the practical use-case.                                                                                                                                                                       |\n"
   ],
   "metadata": {
    "collapsed": false
   }
  },
  {
   "cell_type": "code",
   "execution_count": 1,
   "outputs": [],
   "source": [
    "import numpy as np\n",
    "import pandas as pd"
   ],
   "metadata": {
    "collapsed": false,
    "ExecuteTime": {
     "end_time": "2023-05-17T12:58:48.054105913Z",
     "start_time": "2023-05-17T12:58:47.338798567Z"
    }
   }
  },
  {
   "cell_type": "markdown",
   "source": [
    "## Splitting a Pandas Dataframe\n",
    "\n",
    "The most basic form of a \"dataset\" is a simple pandas dataframe.\n",
    "This is solely suitable for tabular data and only if it fits in memory.\n",
    "However, we can still use this to demonstrate the basic concepts on how to split a dataset\n",
    "so that a proper and reproducible evaluation is possible.\n",
    "\n",
    "First, let's create a dummy dataframe, which has two columns: 1x dummy feature and 1x dummy labels with a ratio of 75/25 aka 25% positive labels."
   ],
   "metadata": {
    "collapsed": false
   }
  },
  {
   "cell_type": "code",
   "execution_count": 2,
   "outputs": [
    {
     "name": "stdout",
     "output_type": "stream",
     "text": [
      "   feat  label\n",
      "0     0      0\n",
      "1     1      0\n",
      "2     2      0\n",
      "3     3      0\n",
      "4     4      0\n"
     ]
    }
   ],
   "source": [
    "df = pd.DataFrame({\n",
    "    'feat': list(range(100)),\n",
    "    'label': [0] * 75 + [1] * 25\n",
    "})\n",
    "\n",
    "print(df.head())"
   ],
   "metadata": {
    "collapsed": false,
    "ExecuteTime": {
     "end_time": "2023-05-17T12:58:48.066629974Z",
     "start_time": "2023-05-17T12:58:48.058166648Z"
    }
   }
  },
  {
   "cell_type": "markdown",
   "source": [
    "Generally, we start of with the concept of splitting our dataframe into two partitions: `train` and `test`.\n",
    "Later, we'll introduce the concept of `train`, `validation` and `test` splits.\n",
    "\n",
    "An easy way to split an indexable data structure into two partitions and avoid shuffling is by creating a permuted array containing indices. After determining the desired partition sizes, these indices can be used to collect data from the dataframe.\n",
    "In this example we do an 80/20 split, which implies that a fifth of the full dataframe is reserved for evaluation.\n",
    "\n",
    "A dataframe can be sliced by the `.iloc` method, whereas numpy or torch do not need this specification when performing index selection.\n"
   ],
   "metadata": {
    "collapsed": false
   }
  },
  {
   "cell_type": "code",
   "execution_count": 3,
   "outputs": [
    {
     "name": "stdout",
     "output_type": "stream",
     "text": [
      "Permuted indices:  [83 57  7 45 50 39 90 54 12 65 76 62 71 44 14 37 73 67  5 84 87 26 52 27\n",
      " 85  0 88  9 86 31 55 20 63 15 33 79 24 78  4 21  8  6 11 42  2 82 96 58\n",
      " 56 34 47 68 29 80 25 35 97 48 46 10 51 92 36 98  3 95 94 18 41 91 89 81\n",
      " 72 53 60 93 70 16 32 17 13 30 75 43 99 28  1 66 61 19 40 49 59 23 38 22\n",
      " 64 69 77 74]\n"
     ]
    }
   ],
   "source": [
    "idxs = np.random.permutation(len(df))\n",
    "print('Permuted indices: ', idxs)\n",
    "\n",
    "train_size = 0.8\n",
    "train_idxs = idxs[:int(len(idxs) * train_size)]\n",
    "test_idxs = idxs[int(len(idxs) * train_size):]\n",
    "\n",
    "train_df = df.iloc[train_idxs]\n",
    "test_df = df.iloc[test_idxs]"
   ],
   "metadata": {
    "collapsed": false,
    "ExecuteTime": {
     "end_time": "2023-05-17T12:58:48.074551661Z",
     "start_time": "2023-05-17T12:58:48.065400524Z"
    }
   }
  },
  {
   "cell_type": "markdown",
   "source": [
    "The previous approach requires the additional `numpy` library. In cases where installation or utilization of different packages is not usable, one can also sample a predefined fraction randomly from a dataframe. Afterward, the test dataframe is obtained by checking if an index is already contained in the `train_df`. The `~` negates the boolean values returned from the `isin` function."
   ],
   "metadata": {
    "collapsed": false
   }
  },
  {
   "cell_type": "code",
   "execution_count": 4,
   "outputs": [],
   "source": [
    "train_df = df.sample(frac=0.8)\n",
    "test_df = df[~df.index.isin(train_df.index)]"
   ],
   "metadata": {
    "collapsed": false,
    "ExecuteTime": {
     "end_time": "2023-05-17T12:58:48.125396818Z",
     "start_time": "2023-05-17T12:58:48.078217465Z"
    }
   }
  },
  {
   "cell_type": "markdown",
   "source": [
    "## Splitting a Dataframe with scikit-learn\n",
    "\n",
    "A more convenient approach to splitting is by using the `scikit-learn` package.\n",
    "This package contains a variety of functions that simplify various splitting strategies.\n",
    "\n",
    "The most basic variant is the `train_test_split` function. It only requires the desired size of the training dataset:"
   ],
   "metadata": {
    "collapsed": false
   }
  },
  {
   "cell_type": "code",
   "execution_count": 5,
   "outputs": [
    {
     "name": "stdout",
     "output_type": "stream",
     "text": [
      "TRAIN DATASET\n",
      "    feat  label\n",
      "71    71      0\n",
      "8      8      0\n",
      "82    82      1\n",
      "81    81      1\n",
      "46    46      0\n",
      "TEST DATASET\n",
      "    feat  label\n",
      "24    24      0\n",
      "2      2      0\n",
      "65    65      0\n",
      "67    67      0\n",
      "99    99      1\n"
     ]
    }
   ],
   "source": [
    "from sklearn.model_selection import train_test_split\n",
    "\n",
    "train_df, test_df = train_test_split(df, train_size=0.8)\n",
    "\n",
    "print('TRAIN DATASET')\n",
    "print(train_df.head())\n",
    "\n",
    "print('TEST DATASET')\n",
    "print(test_df.head())"
   ],
   "metadata": {
    "collapsed": false,
    "ExecuteTime": {
     "end_time": "2023-05-17T12:58:48.644830594Z",
     "start_time": "2023-05-17T12:58:48.085114568Z"
    }
   }
  },
  {
   "cell_type": "markdown",
   "source": [
    "As we noted in the introduction, we would like to create a reproducible splitting strategy.\n",
    "In its current form the splitting function returns a different result on every execution though:"
   ],
   "metadata": {
    "collapsed": false
   }
  },
  {
   "cell_type": "code",
   "execution_count": 6,
   "outputs": [
    {
     "name": "stdout",
     "output_type": "stream",
     "text": [
      "Split 1:\n",
      "    feat  label\n",
      "98    98      1\n",
      "38    38      0\n",
      "57    57      0\n",
      "10    10      0\n",
      "92    92      1\n",
      "--------------------\n",
      "Split 2:\n",
      "    feat  label\n",
      "42    42      0\n",
      "11    11      0\n",
      "81    81      1\n",
      "58    58      0\n",
      "85    85      1\n",
      "--------------------\n",
      "Split 3:\n",
      "    feat  label\n",
      "41    41      0\n",
      "50    50      0\n",
      "40    40      0\n",
      "97    97      1\n",
      "28    28      0\n",
      "--------------------\n"
     ]
    }
   ],
   "source": [
    "for i in range(3):\n",
    "    train_df, test_df = train_test_split(df, train_size=0.8)\n",
    "    print(f'Split {i + 1}:')\n",
    "    print(train_df.head())\n",
    "    print('-' * 20)"
   ],
   "metadata": {
    "collapsed": false,
    "ExecuteTime": {
     "end_time": "2023-05-17T12:58:48.655822230Z",
     "start_time": "2023-05-17T12:58:48.647951052Z"
    }
   }
  },
  {
   "cell_type": "markdown",
   "source": [
    "To achieve a reproducible behavior seeding is necessary. More precisely, seeding implies providing a parameter aka *random seed*, which leads to identical random splits each time the function is executed."
   ],
   "metadata": {
    "collapsed": false
   }
  },
  {
   "cell_type": "code",
   "execution_count": 7,
   "outputs": [
    {
     "name": "stdout",
     "output_type": "stream",
     "text": [
      "Split 1:\n",
      "    feat  label\n",
      "10    10      0\n",
      "73    73      0\n",
      "76    76      1\n",
      "53    53      0\n",
      "52    52      0\n",
      "--------------------\n",
      "Split 2:\n",
      "    feat  label\n",
      "10    10      0\n",
      "73    73      0\n",
      "76    76      1\n",
      "53    53      0\n",
      "52    52      0\n",
      "--------------------\n",
      "Split 3:\n",
      "    feat  label\n",
      "10    10      0\n",
      "73    73      0\n",
      "76    76      1\n",
      "53    53      0\n",
      "52    52      0\n",
      "--------------------\n"
     ]
    }
   ],
   "source": [
    "for i in range(3):\n",
    "    train_df, test_df = train_test_split(df, train_size=0.8, random_state=1337)\n",
    "    print(f'Split {i + 1}:')\n",
    "    print(train_df.head())\n",
    "    print('-' * 20)"
   ],
   "metadata": {
    "collapsed": false,
    "ExecuteTime": {
     "end_time": "2023-05-17T12:58:48.721476411Z",
     "start_time": "2023-05-17T12:58:48.657489066Z"
    }
   }
  },
  {
   "cell_type": "markdown",
   "source": [
    "A fully random split is sufficient in cases of somewhat evenly distributed labels.\n",
    "In a highly unbalanced setting as it often occurs in medical settings or anomaly detection,\n",
    "this can lead to unwanted side effects.\n",
    "\n",
    "Let's imagine the following example, where our dummy dataframe only has 5% of positive labels.\n",
    "If we do a random split, it could happen that our test set does not even contain a single example of our\n",
    "positive class! To ensure a fair evaluation of our algorithm, the distribution of the labels in the test set\n",
    "should roughly match the one of the training set."
   ],
   "metadata": {
    "collapsed": false
   }
  },
  {
   "cell_type": "code",
   "execution_count": 8,
   "outputs": [
    {
     "name": "stdout",
     "output_type": "stream",
     "text": [
      "label\n",
      "0    20\n",
      "Name: count, dtype: int64\n"
     ]
    }
   ],
   "source": [
    "df_2 = pd.DataFrame({\n",
    "    'feat': list(range(100)),\n",
    "    'label': [0] * 95 + [1] * 5\n",
    "})\n",
    "\n",
    "_, test_df = train_test_split(df_2, train_size=0.8, random_state=1337)\n",
    "print(test_df['label'].value_counts())"
   ],
   "metadata": {
    "collapsed": false,
    "ExecuteTime": {
     "end_time": "2023-05-17T12:58:48.722315353Z",
     "start_time": "2023-05-17T12:58:48.674868485Z"
    }
   }
  },
  {
   "cell_type": "markdown",
   "source": [
    "To counter this problem, we can use **stratification**, which is a technique for partitioning a dataset into training and test sets while maintaining the same proportion of each class or target variable category in both sets as in the original dataset. This ensures that the model trained on the training set is representative of the overall distribution of the target variable and can generalize well to new data.\n",
    "Stratification can be achieved by providing the `stratify` argument. The passed object should be a vector-style element of the same length as the dataframe. In our example, we stratify the split according to the labels, but this is not a necessity. A stratification criterion could also reflect certain features or criteria, e.g. matching an age distribution or ensuring balanced ethnicity."
   ],
   "metadata": {
    "collapsed": false
   }
  },
  {
   "cell_type": "code",
   "execution_count": 9,
   "outputs": [
    {
     "name": "stdout",
     "output_type": "stream",
     "text": [
      "label\n",
      "0    19\n",
      "1     1\n",
      "Name: count, dtype: int64\n"
     ]
    }
   ],
   "source": [
    "_, test_df = train_test_split(\n",
    "    df_2, train_size=0.8, random_state=1337, stratify=df_2['label']\n",
    ")\n",
    "print(test_df['label'].value_counts())"
   ],
   "metadata": {
    "collapsed": false,
    "ExecuteTime": {
     "end_time": "2023-05-17T12:58:48.722946086Z",
     "start_time": "2023-05-17T12:58:48.691267762Z"
    }
   }
  },
  {
   "cell_type": "markdown",
   "source": [
    "In our simple example the stratification results in one sample of the positive class in the test set, which reflects the previously defined ratio of 95/5 negative to positive class.\n",
    "\n",
    "Lastly, it's worth mentioning that the `train_test_split` function does not require a pandas dataframe but - according to the documentation - allows `lists, numpy arrays, scipy-sparse matrices or pandas dataframes`."
   ],
   "metadata": {
    "collapsed": false
   }
  },
  {
   "cell_type": "markdown",
   "source": [
    "## Defining a Training, Validation AND Test Split\n",
    "\n",
    "When working with machine learning models, it's important to evaluate their performance on data that hasn't been seen during training. To achieve this, we can split our dataset into three parts: a training set, a validation set, and a test set.\n",
    "The training set is used to train the model, the validation set is used to tune hyperparameters and make decisions about the model architecture, and the test set is used to evaluate the final performance of the model.\n",
    "Scikit-learn does not provide a convenience function for doing this triplet split, but we can do so easily by ourselves:"
   ],
   "metadata": {
    "collapsed": false
   }
  },
  {
   "cell_type": "code",
   "execution_count": 10,
   "outputs": [],
   "source": [
    "from typing import Tuple, Optional\n",
    "\n",
    "\n",
    "def train_val_test_split(\n",
    "        df: pd.DataFrame,\n",
    "        ratios: Tuple[float, float, float],\n",
    "        random_state: Optional[float] = None\n",
    ") -> Tuple[pd.DataFrame, pd.DataFrame, pd.DataFrame]:\n",
    "    \"\"\"Do a train, val and test split on a dataframe.\"\"\"\n",
    "    assert sum(ratios) == 1., 'Splitting ratios do not add up to 1.'\n",
    "\n",
    "    train_val_df, test_df = train_test_split(\n",
    "        df, test_size=ratios[2], random_state=random_state\n",
    "    )\n",
    "\n",
    "    num_train_samples = int(len(df) * ratios[0])\n",
    "    train_df, val_df = train_test_split(\n",
    "        train_val_df, train_size=num_train_samples, random_state=random_state\n",
    "    )\n",
    "    return train_df, val_df, test_df"
   ],
   "metadata": {
    "collapsed": false,
    "ExecuteTime": {
     "end_time": "2023-05-17T12:58:48.804880422Z",
     "start_time": "2023-05-17T12:58:48.711786806Z"
    }
   }
  },
  {
   "cell_type": "markdown",
   "source": [
    "The above function executes the scikit learn splitting procedure twice in a row, which leads to the desired results.\n",
    "It is easily extendable to work with stratification as well.\n",
    "Let's try it out!"
   ],
   "metadata": {
    "collapsed": false
   }
  },
  {
   "cell_type": "code",
   "execution_count": 11,
   "outputs": [
    {
     "name": "stdout",
     "output_type": "stream",
     "text": [
      "Train size: 70, val size: 15, test size: 15,\n"
     ]
    }
   ],
   "source": [
    "train_df, val_df, test_df = train_val_test_split(df, ratios=(0.7, 0.15, 0.15))\n",
    "\n",
    "print(\n",
    "    f'Train size: {len(train_df)}, val size: {len(val_df)}, test size: {len(test_df)},'\n",
    ")"
   ],
   "metadata": {
    "collapsed": false,
    "ExecuteTime": {
     "end_time": "2023-05-17T12:58:48.818222911Z",
     "start_time": "2023-05-17T12:58:48.762925593Z"
    }
   }
  },
  {
   "cell_type": "markdown",
   "source": [
    "### Cross-validation\n",
    "\n",
    "With our splitting procedure in place, we can advance our training setup and utilize the so-called\n",
    "**cross validation**.\n",
    "Cross-validation is another strategy to evaluate the performance of a predictive model.\n",
    "The basic idea behind cross-validation is to split the available data into multiple sets, or \"folds,\" and use these folds to train and test the model multiple times.\n",
    "By doing this, we can get a better estimate of how the model will perform on new, unseen data.\n",
    "\n",
    "Cross-validation typically consists of multiple phases:\n",
    "    - Split the data: The first step in cross-validation is to split the available data (aka our data minus the designated test partition) into k equal-sized folds. For example, if we're using 5-fold cross-validation, we'll split the data into 5 folds, with each fold containing a fifth of the data.\n",
    "    - Train the model: Next, we'll train the model using k-1 of the folds. For example, if we're using a 5-fold cross-validation, we'll train the model using 4 of the folds and leave one fold out for testing.\n",
    "    - Validate the model: We'll then evaluate the model using the remaining fold that we left out in step 2. This gives us a rough  estimate of how the model will perform on the test set.\n",
    "    - Repetition: The training and validation steps are repeated until each fold was once utilized as validation set. This will give us k estimates of how the model will perform on new data.\n",
    "    - Final Evaluation: Evaluate the performance: Finally, we'll evaluate the performance of the model by aggregating the obtained metrics from each fold.\n",
    "\n",
    "Following this procedure gives us a sound estimate whether our current hyperparameters lead to a model that generalizes well.\n",
    "A depiction of cross-validation can be found in the [sklearn documentation](https://scikit-learn.org/stable/_images/grid_search_cross_validation.png), which visualizes the described steps in a simplified fashion.\n",
    "\n",
    "Note that in machine learning the ultimate goal is to create a model, which has a high generalization factor and not to overfit on the test set. Cross-validation allows to perform hyperparameter search without specifically investigating the fit on the unseen test data.\n",
    "In current deep learning literature you will notice that you won't find this concept very often. This has multiple reasons.\n",
    "First, training large models is time and resource intensive. Doing a large hyperparameter search and fitting a model for multiple folds is often simply not in the budget.\n",
    "Second, a lot of research tries to beat state-of-the-art on some benchmarks like CIFAR10 or Imagenet.\n",
    "The goal is literally to maximize performance on the test set without regarding a classic evaluation scheme.\n",
    "This leads to hyperparameters that are specifically tweaked to the test set, which is in contrast to the points we discussed here previously.\n",
    "\n",
    "One important last thing to note is that cross-validation is typically used for evaluating model performance during development.\n",
    "Once the desired performance of the model is achieved, it is trained on all folds and then used to make predictions on new data (aka our real test set).\n",
    "\n",
    "To do cross-validation in python, the scikit-learn library provides a few utilities like `KFold`:"
   ],
   "metadata": {
    "collapsed": false
   }
  },
  {
   "cell_type": "code",
   "execution_count": 12,
   "outputs": [
    {
     "name": "stdout",
     "output_type": "stream",
     "text": [
      "Fold 0, train size: 64, validation size: 16\n",
      "Validation indices: [ 3  4  5  6  8 11 19 28 40 46 52 65 66 69 78 79]\n",
      "--------------------\n",
      "Fold 1, train size: 64, validation size: 16\n",
      "Validation indices: [ 7 15 18 22 27 29 30 34 41 53 54 57 64 67 70 76]\n",
      "--------------------\n",
      "Fold 2, train size: 64, validation size: 16\n",
      "Validation indices: [ 0 12 13 21 23 24 36 38 39 42 45 47 58 60 62 72]\n",
      "--------------------\n",
      "Fold 3, train size: 64, validation size: 16\n",
      "Validation indices: [ 1  9 20 31 33 35 37 44 49 55 59 61 63 68 71 75]\n",
      "--------------------\n",
      "Fold 4, train size: 64, validation size: 16\n",
      "Validation indices: [ 2 10 14 16 17 25 26 32 43 48 50 51 56 73 74 77]\n",
      "--------------------\n"
     ]
    }
   ],
   "source": [
    "from sklearn.model_selection import KFold\n",
    "\n",
    "# First extract our dedicated test set\n",
    "train_val_df, test_df = train_test_split(df, train_size=0.8)\n",
    "\n",
    "# Create a KFold instance\n",
    "num_folds = 5\n",
    "kf = KFold(n_splits=num_folds, shuffle=True)\n",
    "\n",
    "# Iterate over the respective folds\n",
    "for i, (train_idxs, val_idxs) in enumerate(kf.split(train_val_df)):\n",
    "    print(\n",
    "        f'Fold {i}, train size: {len(train_idxs)}, validation size: {len(val_idxs)}'\n",
    "    )\n",
    "    print(f'Validation indices: {val_idxs}')\n",
    "    print('-' * 20)\n",
    "\n",
    "    train_df = train_val_df.iloc[train_idxs]\n",
    "    val_df = train_val_df.iloc[val_idxs]\n",
    "\n",
    "    # --> FIT AND EVALUATE MODEL <--"
   ],
   "metadata": {
    "collapsed": false,
    "ExecuteTime": {
     "end_time": "2023-05-17T12:58:48.863223687Z",
     "start_time": "2023-05-17T12:58:48.763232217Z"
    }
   }
  },
  {
   "cell_type": "markdown",
   "source": [
    "Note that the above workflow does not directly split the dataframe in the for-loop iteration, but returns **indices**.\n",
    "\n",
    "In the following we will do a small practical example that puts the previously proposed strategies to good use!\n",
    "\n",
    "## Practical Example: Cross-validation and Regression\n",
    "\n",
    "For our practical example, we would like to approximate a function.\n",
    "More precisely, we showcase how you could use the cross validation utility not only to find the best\n",
    "hyperparameters, but to use (or abuse) it as a simple resampling strategy to do model ensembling.\n",
    "We decide to go for an arbitrary polynomial function, which we define in the following."
   ],
   "metadata": {
    "collapsed": false
   }
  },
  {
   "cell_type": "code",
   "execution_count": 13,
   "outputs": [],
   "source": [
    "def func(x: np.ndarray) -> np.ndarray:\n",
    "    return 1 - 0.8 * x + 0.8 * x ** 2 + 0.3 * x ** 3 - 0.4 * x ** 4"
   ],
   "metadata": {
    "collapsed": false,
    "ExecuteTime": {
     "end_time": "2023-05-17T12:58:48.864018342Z",
     "start_time": "2023-05-17T12:58:48.805170961Z"
    }
   }
  },
  {
   "cell_type": "markdown",
   "source": [
    "Our target function can be plotted using `matplotib` in combination with the `linspace` function.\n",
    "Here, `linspace` creates a vector with 100 evenly spaced numbers between -2 and 2."
   ],
   "metadata": {
    "collapsed": false
   }
  },
  {
   "cell_type": "code",
   "execution_count": 14,
   "outputs": [
    {
     "data": {
      "text/plain": "<Figure size 640x480 with 1 Axes>",
      "image/png": "[encoded data removed]"
     },
     "metadata": {},
     "output_type": "display_data"
    }
   ],
   "source": [
    "import matplotlib.pyplot as plt\n",
    "\n",
    "x = np.linspace(-2, 2, 100)\n",
    "plt.plot(x, func(x), c='g')\n",
    "plt.show()"
   ],
   "metadata": {
    "collapsed": false,
    "ExecuteTime": {
     "end_time": "2023-05-17T12:58:49.086226457Z",
     "start_time": "2023-05-17T12:58:48.805491203Z"
    }
   }
  },
  {
   "cell_type": "markdown",
   "source": [
    "We are not done with creating our dummy dataset yet.\n",
    "The dataset itself is sampled by randomly selecting inputs for our function (`x` axis)\n",
    "and subsequently putting some noise on the observed true response `y`."
   ],
   "metadata": {
    "collapsed": false
   }
  },
  {
   "cell_type": "code",
   "execution_count": 15,
   "outputs": [
    {
     "data": {
      "text/plain": "<Figure size 640x480 with 1 Axes>",
      "image/png": "[encoded data removed]"
     },
     "metadata": {},
     "output_type": "display_data"
    }
   ],
   "source": [
    "num_samples = 50\n",
    "noise_variance = 1\n",
    "\n",
    "# Set global seed for reproducibility.\n",
    "np.random.seed(1337)\n",
    "\n",
    "# Sample random x values and create a noised response.\n",
    "x = np.random.uniform(-2, 2, size=(num_samples, 1))\n",
    "y = func(x) + noise_variance * np.random.normal(size=(num_samples, 1))\n",
    "plt.scatter(x, y, c='b')\n",
    "\n",
    "# Plot the function with the function including the noised samples.\n",
    "x_true = np.linspace(-2, 2, 100)\n",
    "plt.plot(x_true, func(x_true), c='g')\n",
    "plt.show()"
   ],
   "metadata": {
    "collapsed": false,
    "ExecuteTime": {
     "end_time": "2023-05-17T12:58:49.324179131Z",
     "start_time": "2023-05-17T12:58:49.110887915Z"
    }
   }
  },
  {
   "cell_type": "markdown",
   "source": [
    "As it can be seen in the graph, it gets increasingly difficult to estimate the base function from the few samples\n",
    "the more noise is added.\n",
    "\n",
    "Nevertheless, let's reserve a few (noised) data points as test set."
   ],
   "metadata": {
    "collapsed": false
   }
  },
  {
   "cell_type": "code",
   "execution_count": 16,
   "outputs": [],
   "source": [
    "train_val_x, test_x, train_val_y, test_y = train_test_split(\n",
    "    x, y, train_size=0.8, random_state=1337\n",
    ")"
   ],
   "metadata": {
    "collapsed": false,
    "ExecuteTime": {
     "end_time": "2023-05-17T12:58:49.324507738Z",
     "start_time": "2023-05-17T12:58:49.315521747Z"
    }
   }
  },
  {
   "cell_type": "markdown",
   "source": [
    "For our model, we make a bold assumption: We already observed from the training data that\n",
    "the true function must be a polynomial of degree four!\n",
    "\n",
    "Thus, the model of choice is a polynomial regression.\n",
    "In scikit-learn this is realized by transforming the input features with `PolynomialFeatures`\n",
    "and then utilizing `LinearRegression`.\n",
    "For example with a degree of `4` and the option `include_bias=True` our univariate input $x$ would be\n",
    "transformed into a vector that contains \\[1 $x$ $x^2$ $x^3$ $x^4$ \\].\n",
    "\n",
    "In the following, we fit the polynomial regression model on all data but the test data."
   ],
   "metadata": {
    "collapsed": false
   }
  },
  {
   "cell_type": "code",
   "execution_count": 17,
   "outputs": [
    {
     "data": {
      "text/plain": "LinearRegression()",
      "text/html": "<style>#sk-container-id-1 {color: black;background-color: white;}#sk-container-id-1 pre{padding: 0;}#sk-container-id-1 div.sk-toggleable {background-color: white;}#sk-container-id-1 label.sk-toggleable__label {cursor: pointer;display: block;width: 100%;margin-bottom: 0;padding: 0.3em;box-sizing: border-box;text-align: center;}#sk-container-id-1 label.sk-toggleable__label-arrow:before {content: \"▸\";float: left;margin-right: 0.25em;color: #696969;}#sk-container-id-1 label.sk-toggleable__label-arrow:hover:before {color: black;}#sk-container-id-1 div.sk-estimator:hover label.sk-toggleable__label-arrow:before {color: black;}#sk-container-id-1 div.sk-toggleable__content {max-height: 0;max-width: 0;overflow: hidden;text-align: left;background-color: #f0f8ff;}#sk-container-id-1 div.sk-toggleable__content pre {margin: 0.2em;color: black;border-radius: 0.25em;background-color: #f0f8ff;}#sk-container-id-1 input.sk-toggleable__control:checked~div.sk-toggleable__content {max-height: 200px;max-width: 100%;overflow: auto;}#sk-container-id-1 input.sk-toggleable__control:checked~label.sk-toggleable__label-arrow:before {content: \"▾\";}#sk-container-id-1 div.sk-estimator input.sk-toggleable__control:checked~label.sk-toggleable__label {background-color: #d4ebff;}#sk-container-id-1 div.sk-label input.sk-toggleable__control:checked~label.sk-toggleable__label {background-color: #d4ebff;}#sk-container-id-1 input.sk-hidden--visually {border: 0;clip: rect(1px 1px 1px 1px);clip: rect(1px, 1px, 1px, 1px);height: 1px;margin: -1px;overflow: hidden;padding: 0;position: absolute;width: 1px;}#sk-container-id-1 div.sk-estimator {font-family: monospace;background-color: #f0f8ff;border: 1px dotted black;border-radius: 0.25em;box-sizing: border-box;margin-bottom: 0.5em;}#sk-container-id-1 div.sk-estimator:hover {background-color: #d4ebff;}#sk-container-id-1 div.sk-parallel-item::after {content: \"\";width: 100%;border-bottom: 1px solid gray;flex-grow: 1;}#sk-container-id-1 div.sk-label:hover label.sk-toggleable__label {background-color: #d4ebff;}#sk-container-id-1 div.sk-serial::before {content: \"\";position: absolute;border-left: 1px solid gray;box-sizing: border-box;top: 0;bottom: 0;left: 50%;z-index: 0;}#sk-container-id-1 div.sk-serial {display: flex;flex-direction: column;align-items: center;background-color: white;padding-right: 0.2em;padding-left: 0.2em;position: relative;}#sk-container-id-1 div.sk-item {position: relative;z-index: 1;}#sk-container-id-1 div.sk-parallel {display: flex;align-items: stretch;justify-content: center;background-color: white;position: relative;}#sk-container-id-1 div.sk-item::before, #sk-container-id-1 div.sk-parallel-item::before {content: \"\";position: absolute;border-left: 1px solid gray;box-sizing: border-box;top: 0;bottom: 0;left: 50%;z-index: -1;}#sk-container-id-1 div.sk-parallel-item {display: flex;flex-direction: column;z-index: 1;position: relative;background-color: white;}#sk-container-id-1 div.sk-parallel-item:first-child::after {align-self: flex-end;width: 50%;}#sk-container-id-1 div.sk-parallel-item:last-child::after {align-self: flex-start;width: 50%;}#sk-container-id-1 div.sk-parallel-item:only-child::after {width: 0;}#sk-container-id-1 div.sk-dashed-wrapped {border: 1px dashed gray;margin: 0 0.4em 0.5em 0.4em;box-sizing: border-box;padding-bottom: 0.4em;background-color: white;}#sk-container-id-1 div.sk-label label {font-family: monospace;font-weight: bold;display: inline-block;line-height: 1.2em;}#sk-container-id-1 div.sk-label-container {text-align: center;}#sk-container-id-1 div.sk-container {/* jupyter's `normalize.less` sets `[hidden] { display: none; }` but bootstrap.min.css set `[hidden] { display: none !important; }` so we also need the `!important` here to be able to override the default hidden behavior on the sphinx rendered scikit-learn.org. See: https://github.com/scikit-learn/scikit-learn/issues/21755 */display: inline-block !important;position: relative;}#sk-container-id-1 div.sk-text-repr-fallback {display: none;}</style><div id=\"sk-container-id-1\" class=\"sk-top-container\"><div class=\"sk-text-repr-fallback\"><pre>LinearRegression()</pre><b>In a Jupyter environment, please rerun this cell to show the HTML representation or trust the notebook. <br />On GitHub, the HTML representation is unable to render, please try loading this page with nbviewer.org.</b></div><div class=\"sk-container\" hidden><div class=\"sk-item\"><div class=\"sk-estimator sk-toggleable\"><input class=\"sk-toggleable__control sk-hidden--visually\" id=\"sk-estimator-id-1\" type=\"checkbox\" checked><label for=\"sk-estimator-id-1\" class=\"sk-toggleable__label sk-toggleable__label-arrow\">LinearRegression</label><div class=\"sk-toggleable__content\"><pre>LinearRegression()</pre></div></div></div></div></div>"
     },
     "execution_count": 17,
     "metadata": {},
     "output_type": "execute_result"
    }
   ],
   "source": [
    "from sklearn.linear_model import LinearRegression\n",
    "from sklearn.preprocessing import PolynomialFeatures\n",
    "from sklearn.metrics import mean_squared_error\n",
    "\n",
    "# Choose the degree of the polynomial.\n",
    "degrees = 4\n",
    "# Transform into polynomial features.\n",
    "poly = PolynomialFeatures(degree=degrees, include_bias=True)\n",
    "x_poly = poly.fit_transform(train_val_x)\n",
    "\n",
    "# Fit linear regression on polynomial features.\n",
    "lr = LinearRegression()\n",
    "lr.fit(x_poly, train_val_y)"
   ],
   "metadata": {
    "collapsed": false,
    "ExecuteTime": {
     "end_time": "2023-05-17T12:58:49.331631470Z",
     "start_time": "2023-05-17T12:58:49.315773730Z"
    }
   }
  },
  {
   "cell_type": "markdown",
   "source": [
    "As usual the estimated coefficients can be checked."
   ],
   "metadata": {
    "collapsed": false
   }
  },
  {
   "cell_type": "code",
   "execution_count": 18,
   "outputs": [
    {
     "name": "stdout",
     "output_type": "stream",
     "text": [
      "COEFFICIENTS: [ 0.         -0.94456601  0.36214103  0.26918903 -0.30352206]\n"
     ]
    }
   ],
   "source": [
    "print('COEFFICIENTS:', lr.coef_[0])"
   ],
   "metadata": {
    "collapsed": false,
    "ExecuteTime": {
     "end_time": "2023-05-17T12:58:49.346374528Z",
     "start_time": "2023-05-17T12:58:49.331179377Z"
    }
   }
  },
  {
   "cell_type": "markdown",
   "source": [
    "Next, the mean squared error for our reserved test set and for the actual true function is computed."
   ],
   "metadata": {
    "collapsed": false
   }
  },
  {
   "cell_type": "code",
   "execution_count": 19,
   "outputs": [
    {
     "name": "stdout",
     "output_type": "stream",
     "text": [
      "TEST MSE: 0.8246164617230851\n",
      "TRUE MSE: 0.10454374821283999\n"
     ]
    }
   ],
   "source": [
    "test_x_poly = poly.fit_transform(test_x.reshape(-1, 1))\n",
    "print('TEST MSE:', mean_squared_error(test_y, lr.predict(test_x_poly)))\n",
    "\n",
    "x_true_poly = poly.fit_transform(x_true.reshape(-1, 1))\n",
    "print('TRUE MSE:', mean_squared_error(func(x_true), lr.predict(x_true_poly)))"
   ],
   "metadata": {
    "collapsed": false,
    "ExecuteTime": {
     "end_time": "2023-05-17T12:58:49.440076643Z",
     "start_time": "2023-05-17T12:58:49.346108377Z"
    }
   }
  },
  {
   "cell_type": "markdown",
   "source": [
    "Not that bad! Additionally the approximated function is plotted (red):"
   ],
   "metadata": {
    "collapsed": false
   }
  },
  {
   "cell_type": "code",
   "execution_count": 20,
   "outputs": [
    {
     "data": {
      "text/plain": "<Figure size 640x480 with 1 Axes>",
      "image/png": "[encoded data removed]"
     },
     "metadata": {},
     "output_type": "display_data"
    }
   ],
   "source": [
    "plt.plot(x_true, lr.predict(x_true_poly), c='r')\n",
    "plt.plot(x_true, func(x_true), c='g')\n",
    "plt.show()"
   ],
   "metadata": {
    "collapsed": false,
    "ExecuteTime": {
     "end_time": "2023-05-17T12:58:49.568638102Z",
     "start_time": "2023-05-17T12:58:49.378826912Z"
    }
   }
  },
  {
   "cell_type": "markdown",
   "source": [
    "That is not too far off, but can we do better?\n",
    "\n",
    "In the next approach, the training dataset is splitted using cross-validation.\n",
    "From each fold, one `LinearRegression` object is obtained, which was fitted on a\n",
    "subset of the full training data."
   ],
   "metadata": {
    "collapsed": false
   }
  },
  {
   "cell_type": "code",
   "execution_count": 21,
   "outputs": [
    {
     "name": "stdout",
     "output_type": "stream",
     "text": [
      "Fold 0\n",
      "COEFFICIENTS: [ 0.         -0.88473208  0.37507706  0.29932773 -0.26564637]\n",
      "TEST MSE: 0.7474878470427194\n",
      "TRUE MSE: 0.04483478636205592\n",
      "--------------------\n",
      "Fold 1\n",
      "COEFFICIENTS: [ 0.         -0.71267352  0.41650921  0.2097751  -0.33446362]\n",
      "TEST MSE: 1.0483710763805327\n",
      "TRUE MSE: 0.0873304298547162\n",
      "--------------------\n",
      "Fold 2\n",
      "COEFFICIENTS: [ 0.         -1.27840031  0.65079621  0.37699189 -0.39252634]\n",
      "TEST MSE: 0.9284295612258451\n",
      "TRUE MSE: 0.14747381533776652\n",
      "--------------------\n",
      "Fold 3\n",
      "COEFFICIENTS: [ 0.         -1.12556264  0.11276866  0.31470042 -0.24424964]\n",
      "TEST MSE: 0.7453230866438626\n",
      "TRUE MSE: 0.24353934262509647\n",
      "--------------------\n",
      "Fold 4\n",
      "COEFFICIENTS: [ 0.         -0.8369903   0.27945664  0.23663674 -0.28017851]\n",
      "TEST MSE: 0.8228037018088775\n",
      "TRUE MSE: 0.10782273176383166\n",
      "--------------------\n"
     ]
    },
    {
     "data": {
      "text/plain": "<Figure size 640x480 with 1 Axes>",
      "image/png": "[encoded data removed]"
     },
     "metadata": {},
     "output_type": "display_data"
    }
   ],
   "source": [
    "degrees = 4\n",
    "num_folds = 5\n",
    "\n",
    "lrs = []\n",
    "\n",
    "kf = KFold(n_splits=num_folds)\n",
    "kf_idxs = kf.split(train_val_x, train_val_y)\n",
    "for i, (train_idxs, val_idxs) in enumerate(kf_idxs):\n",
    "    # Partition train and validation data\n",
    "    train_x = train_val_x[train_idxs]\n",
    "    train_y = train_val_y[train_idxs]\n",
    "    val_x = train_val_x[val_idxs]\n",
    "    val_y = train_val_y[val_idxs]\n",
    "\n",
    "    # Fit LR on fold\n",
    "    poly = PolynomialFeatures(degree=degrees, include_bias=True)\n",
    "    x_poly = poly.fit_transform(train_x)\n",
    "    lr = LinearRegression()\n",
    "    lr.fit(x_poly, train_y)\n",
    "\n",
    "    # Save fitted model for later\n",
    "    lrs.append(lr)\n",
    "\n",
    "    # Print coefficients and performance on test set\n",
    "    print('Fold', i)\n",
    "    print('COEFFICIENTS:', lr.coef_[0])\n",
    "    print('TEST MSE:', mean_squared_error(test_y, lr.predict(test_x_poly)))\n",
    "    print('TRUE MSE:', mean_squared_error(func(x_true), lr.predict(x_true_poly)))\n",
    "    print('-' * 20)\n",
    "\n",
    "    # Add plot of predicted function\n",
    "    plt.plot(x_true, lr.predict(x_true_poly), c='r', alpha=0.3)\n",
    "\n",
    "plt.plot(x_true, func(x_true), c='g')\n",
    "ax = plt.gca()\n",
    "ax.set_ylim([-5, 5])\n",
    "plt.show()"
   ],
   "metadata": {
    "collapsed": false,
    "ExecuteTime": {
     "end_time": "2023-05-17T12:58:49.718401818Z",
     "start_time": "2023-05-17T12:58:49.565443757Z"
    }
   }
  },
  {
   "cell_type": "markdown",
   "source": [
    "The above plot shows the base function in green as usual but also contains the approximated function\n",
    "from each fold. Changing the input data slightly, as we did over the folds -- especially in a low data and high noise regime -- results in variable outputs.\n",
    "\n",
    "We can abuse the fact that each fold estimates a different optimal model and combine all estimators\n",
    "in a single on. In our case we make a prediction with every model and average them.\n",
    "That's called **ensembling**. A variety of strategies exist on how to combine ensemble members,\n",
    "but doing a simple mean is probably the most adopted one.\n",
    "\n",
    "A function is added, which takes an input array plus a list of `LinearRegression` objects and\n",
    "returns the averaged prediction across the ensemble members."
   ],
   "metadata": {
    "collapsed": false
   }
  },
  {
   "cell_type": "code",
   "execution_count": 22,
   "outputs": [],
   "source": [
    "from typing import List\n",
    "\n",
    "\n",
    "def predict_ensemble(\n",
    "        x: np.ndarray, degrees: int, lrs: List[LinearRegression]\n",
    ") -> np.ndarray:\n",
    "    poly = PolynomialFeatures(degree=degrees, include_bias=True)\n",
    "    x_poly = poly.fit_transform(x.reshape(-1, 1))\n",
    "\n",
    "    preds = [lr.predict(x_poly) for lr in lrs]\n",
    "    return np.mean(np.concatenate(preds, axis=1), axis=1)"
   ],
   "metadata": {
    "collapsed": false,
    "ExecuteTime": {
     "end_time": "2023-05-17T12:58:49.767173228Z",
     "start_time": "2023-05-17T12:58:49.723425224Z"
    }
   }
  },
  {
   "cell_type": "markdown",
   "source": [
    "Finally, let's check whether we good closer to the true function using our small ensemble method:"
   ],
   "metadata": {
    "collapsed": false
   }
  },
  {
   "cell_type": "code",
   "execution_count": 23,
   "outputs": [
    {
     "name": "stdout",
     "output_type": "stream",
     "text": [
      "TEST MSE: 0.07379802224158301\n",
      "TRUE MSE: 0.08731119426878277\n"
     ]
    },
    {
     "data": {
      "text/plain": "<Figure size 640x480 with 1 Axes>",
      "image/png": "[encoded data removed]"
     },
     "metadata": {},
     "output_type": "display_data"
    }
   ],
   "source": [
    "# Predict with ensemble on test data.\n",
    "y_ens = predict_ensemble(test_x, degrees=4, lrs=lrs)\n",
    "y_true_approx = predict_ensemble(x_true, degrees=4, lrs=lrs)\n",
    "\n",
    "print('TEST MSE:', mean_squared_error(func(test_x), y_ens))\n",
    "print('TRUE MSE:', mean_squared_error(func(x_true), y_true_approx))\n",
    "\n",
    "plt.plot(x_true, y_true_approx, c='r')\n",
    "plt.plot(x_true, func(x_true), c='g')\n",
    "ax = plt.gca()\n",
    "ax.set_ylim([-5, 5])\n",
    "plt.show()"
   ],
   "metadata": {
    "collapsed": false,
    "ExecuteTime": {
     "end_time": "2023-05-17T12:58:49.949072861Z",
     "start_time": "2023-05-17T12:58:49.765504088Z"
    }
   }
  },
  {
   "cell_type": "markdown",
   "source": [
    "Indeed! Our final MSE is lower than in the single split strategy and the plotted function seems\n",
    "to be closer to the original."
   ],
   "metadata": {
    "collapsed": false
   }
  }
 ],
 "metadata": {
  "kernelspec": {
   "display_name": "Python 3",
   "language": "python",
   "name": "python3"
  },
  "language_info": {
   "codemirror_mode": {
    "name": "ipython",
    "version": 2
   },
   "file_extension": ".py",
   "mimetype": "text/x-python",
   "name": "python",
   "nbconvert_exporter": "python",
   "pygments_lexer": "ipython2",
   "version": "2.7.6"
  }
 },
 "nbformat": 4,
 "nbformat_minor": 0
}
